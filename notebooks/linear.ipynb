{
 "cells": [
  {
   "cell_type": "markdown",
   "metadata": {},
   "source": [
    "Set variables for the data to search (unordered) and what to find"
   ]
  },
  {
   "cell_type": "code",
   "execution_count": 1,
   "metadata": {},
   "outputs": [],
   "source": [
    "data = [24, 25, 30, 46, 87, 44, 82, 21, 95, 52, 45, 73, 71, 26, 92, 97, 41, 80, 9, 98]\n",
    "toFind = 97"
   ]
  },
  {
   "cell_type": "markdown",
   "metadata": {},
   "source": [
    "Function to perform linear search. ERL would be:\n",
    "```\n",
    "function linearSearch(data, toFind)\n",
    "    for i = 0 to len(data)\n",
    "        if data[i] == toFind then\n",
    "            return i\n",
    "        endif\n",
    "    next i\n",
    "\n",
    "    return false\n",
    "endfunction\n",
    "```"
   ]
  },
  {
   "cell_type": "code",
   "execution_count": 3,
   "metadata": {},
   "outputs": [],
   "source": [
    "def linearSearch(data, toFind):\n",
    "    for i in range(len(data)):\n",
    "        if data[i] == toFind:\n",
    "            return i\n",
    "    return False"
   ]
  },
  {
   "cell_type": "markdown",
   "metadata": {},
   "source": [
    "ERL would be the same for setting `isFound` to the result of the function"
   ]
  },
  {
   "cell_type": "code",
   "execution_count": 6,
   "metadata": {},
   "outputs": [],
   "source": [
    "isFound = linearSearch(data, toFind)"
   ]
  },
  {
   "cell_type": "markdown",
   "metadata": {},
   "source": [
    "Check if `toFind` was found. ERL:\n",
    "```\n",
    "if isFound != false then\n",
    "    print(str(toFind) + \" was found at index \" + str(isFound + 1))\n",
    "else\n",
    "    print(str(toFind) + \" was not found\")\n",
    "endif\n",
    "```"
   ]
  },
  {
   "cell_type": "code",
   "execution_count": 7,
   "metadata": {},
   "outputs": [
    {
     "name": "stdout",
     "output_type": "stream",
     "text": [
      "97 was found at index 16\n"
     ]
    }
   ],
   "source": [
    "if isFound != False:\n",
    "    print(f\"{toFind} was found at index {isFound + 1}\")\n",
    "else:\n",
    "    print(f\"{toFind} was not found\")"
   ]
  },
  {
   "cell_type": "markdown",
   "metadata": {},
   "source": [
    "Full ERL:\n",
    "```\n",
    "data = [24, 25, 30, 46, 87, 44, 82, 21, 95, 52, 45, 73, 71, 26, 92, 97, 41, 80, 9, 98]\n",
    "toFind = 97\n",
    "\n",
    "function linearSearch(data, toFind)\n",
    "    for i = 0 to len(data)\n",
    "        if data[i] == toFind then\n",
    "            return i\n",
    "        endif\n",
    "    next i\n",
    "\n",
    "    return false\n",
    "endfunction\n",
    "\n",
    "\n",
    "isFound = linearSearch(data, toFind)\n",
    "\n",
    "if isFound != False:\n",
    "    print(f\"{toFind} was found at index {isFound + 1}\")\n",
    "else:\n",
    "    print(f\"{toFind} was not found\")\n",
    "```"
   ]
  }
 ],
 "metadata": {
  "interpreter": {
   "hash": "4f946df053fbf2b937619d3c5458e7af74262f9a954d8797ba0b27400bcafe06"
  },
  "kernelspec": {
   "display_name": "Python 3.10.4 64-bit",
   "language": "python",
   "name": "python3"
  },
  "language_info": {
   "codemirror_mode": {
    "name": "ipython",
    "version": 3
   },
   "file_extension": ".py",
   "mimetype": "text/x-python",
   "name": "python",
   "nbconvert_exporter": "python",
   "pygments_lexer": "ipython3",
   "version": "3.10.4"
  },
  "orig_nbformat": 4
 },
 "nbformat": 4,
 "nbformat_minor": 2
}
