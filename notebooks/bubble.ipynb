{
 "cells": [
  {
   "cell_type": "markdown",
   "metadata": {},
   "source": [
    "Set variable `data` to list of unordered numbers. Would be the same in ERL"
   ]
  },
  {
   "cell_type": "code",
   "execution_count": 1,
   "metadata": {},
   "outputs": [],
   "source": [
    "data = [24, 25, 30, 46, 87, 44, 82, 21, 95, 52, 45, 73, 71, 26, 92, 97, 41, 80, 9, 98]"
   ]
  },
  {
   "cell_type": "markdown",
   "metadata": {},
   "source": [
    "The function `swapPositions` does what it says on the tin, swap the index of 2 values. In ERL, it would read:\n",
    "```\n",
    "function swapPositions(list, pos1, pos2)\n",
    "    temp = list[pos1]\n",
    "    list[pos1] = list[pos2]\n",
    "    list[pos2] = temp\n",
    "\n",
    "    return list\n",
    "endfunction\n",
    "```"
   ]
  },
  {
   "cell_type": "code",
   "execution_count": 2,
   "metadata": {},
   "outputs": [],
   "source": [
    "def swapPositions(list, pos1, pos2):\n",
    "    list[pos1], list[pos2] = list[pos2], list[pos1]\n",
    "    return list"
   ]
  },
  {
   "cell_type": "markdown",
   "metadata": {},
   "source": [
    "`bubbleSort` actually carries out the sort\n",
    "```\n",
    "function bubbleSort(data)\n",
    "    for i = 0 to len(data)\n",
    "        for a = 0 to (len(data)-i-1)\n",
    "            if a <= len(data) then\n",
    "                if data[a] > data[a+1] then\n",
    "                    data = swapPositions(data, a, a+1)\n",
    "                endif\n",
    "            endif\n",
    "        next a\n",
    "    next i\n",
    "\n",
    "    return data\n",
    "endfunction\n",
    "```"
   ]
  },
  {
   "cell_type": "code",
   "execution_count": 3,
   "metadata": {},
   "outputs": [],
   "source": [
    "def bubbleSort(data):\n",
    "    for i in range(len(data)):\n",
    "\n",
    "        for a in range(len(data)-i-1):\n",
    "            if a > len(data):\n",
    "                continue\n",
    "            else:\n",
    "                if data[a] > data[a+1]:\n",
    "                    data = swapPositions(data, a, a+1)\n",
    "\n",
    "    return data"
   ]
  },
  {
   "cell_type": "markdown",
   "metadata": {},
   "source": [
    "Run/output result of bubble sort. ERL:\n",
    "```\n",
    "print(bubbleSort(data))\n",
    "```"
   ]
  },
  {
   "cell_type": "code",
   "execution_count": 4,
   "metadata": {},
   "outputs": [
    {
     "data": {
      "text/plain": [
       "[9, 21, 24, 25, 26, 30, 41, 44, 45, 46, 52, 71, 73, 80, 82, 87, 92, 95, 97, 98]"
      ]
     },
     "execution_count": 4,
     "metadata": {},
     "output_type": "execute_result"
    }
   ],
   "source": [
    "bubbleSort(data)"
   ]
  },
  {
   "cell_type": "markdown",
   "metadata": {},
   "source": [
    "Full ERL:\n",
    "```\n",
    "data = [24, 25, 30, 46, 87, 44, 82, 21, 95, 52, 45, 73, 71, 26, 92, 97, 41, 80, 9, 98]\n",
    "\n",
    "function swapPositions(list, pos1, pos2)\n",
    "    temp = list[pos1]\n",
    "    list[pos1] = list[pos2]\n",
    "    list[pos2] = temp\n",
    "\n",
    "    return list\n",
    "endfunction\n",
    "\n",
    "function bubbleSort(data)\n",
    "    for i = 0 to len(data)\n",
    "        for a = 0 to (len(data)-i-1)\n",
    "            if a <= len(data) then\n",
    "                if data[a] > data[a+1] then\n",
    "                    data = swapPositions(data, a, a+1)\n",
    "                endif\n",
    "            endif\n",
    "        next a\n",
    "    next i\n",
    "\n",
    "    return data\n",
    "endfunction\n",
    "\n",
    "print(bubbleSort(data))\n",
    "```"
   ]
  }
 ],
 "metadata": {
  "interpreter": {
   "hash": "4f946df053fbf2b937619d3c5458e7af74262f9a954d8797ba0b27400bcafe06"
  },
  "kernelspec": {
   "display_name": "Python 3.10.4 64-bit",
   "language": "python",
   "name": "python3"
  },
  "language_info": {
   "codemirror_mode": {
    "name": "ipython",
    "version": 3
   },
   "file_extension": ".py",
   "mimetype": "text/x-python",
   "name": "python",
   "nbconvert_exporter": "python",
   "pygments_lexer": "ipython3",
   "version": "3.10.4"
  },
  "orig_nbformat": 4
 },
 "nbformat": 4,
 "nbformat_minor": 2
}
