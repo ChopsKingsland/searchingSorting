{
 "cells": [
  {
   "cell_type": "code",
   "execution_count": 1,
   "metadata": {},
   "outputs": [],
   "source": [
    "data = [24, 25, 30, 46, 87, 44, 82, 21, 95,\n",
    "        52, 45, 73, 71, 26, 92, 97, 41, 80, 9, 98]"
   ]
  },
  {
   "cell_type": "code",
   "execution_count": 2,
   "metadata": {},
   "outputs": [],
   "source": [
    "def insertSort(data):\n",
    "    for i in range(1,len(data)):\n",
    "        value = data[i]\n",
    "        pos = i\n",
    "\n",
    "        while pos > 0 and data[pos-1] > value:\n",
    "            data[pos] = data[pos-1]\n",
    "            pos -= 1\n",
    "\n",
    "        data[pos] = value\n",
    "\n",
    "    return data"
   ]
  },
  {
   "cell_type": "code",
   "execution_count": 3,
   "metadata": {},
   "outputs": [
    {
     "data": {
      "text/plain": [
       "[9, 21, 24, 25, 26, 30, 41, 44, 45, 46, 52, 71, 73, 80, 82, 87, 92, 95, 97, 98]"
      ]
     },
     "execution_count": 3,
     "metadata": {},
     "output_type": "execute_result"
    }
   ],
   "source": [
    "insertSort(data)"
   ]
  }
 ],
 "metadata": {
  "interpreter": {
   "hash": "4f946df053fbf2b937619d3c5458e7af74262f9a954d8797ba0b27400bcafe06"
  },
  "kernelspec": {
   "display_name": "Python 3.10.4 64-bit",
   "language": "python",
   "name": "python3"
  },
  "language_info": {
   "codemirror_mode": {
    "name": "ipython",
    "version": 3
   },
   "file_extension": ".py",
   "mimetype": "text/x-python",
   "name": "python",
   "nbconvert_exporter": "python",
   "pygments_lexer": "ipython3",
   "version": "3.10.4"
  },
  "orig_nbformat": 4
 },
 "nbformat": 4,
 "nbformat_minor": 2
}
